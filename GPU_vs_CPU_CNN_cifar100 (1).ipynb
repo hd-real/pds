{
  "nbformat": 4,
  "nbformat_minor": 0,
  "metadata": {
    "colab": {
      "name": "GPU_vs_CPU_CNN_cifar100.ipynb",
      "provenance": [],
      "collapsed_sections": []
    },
    "kernelspec": {
      "name": "python3",
      "display_name": "Python 3"
    },
    "accelerator": "GPU"
  },
  "cells": [
    {
      "cell_type": "markdown",
      "metadata": {
        "id": "J8gzHbwZmtO2"
      },
      "source": [
        "# Ejemplo de CNN 2D en la base de datos cifar100"
      ]
    },
    {
      "cell_type": "code",
      "metadata": {
        "id": "Ub8IUhmduJ7y",
        "colab": {
          "base_uri": "https://localhost:8080/"
        },
        "outputId": "85359cfa-2025-4427-d660-af8487945cf4"
      },
      "source": [
        "from __future__ import absolute_import, division, print_function, unicode_literals\n",
        "# Installa TensorFlow\n",
        "%tensorflow_version 2.x\n",
        "import tensorflow as tf\n",
        "print(tf.__version__)"
      ],
      "execution_count": 1,
      "outputs": [
        {
          "output_type": "stream",
          "text": [
            "2.3.0\n"
          ],
          "name": "stdout"
        }
      ]
    },
    {
      "cell_type": "code",
      "metadata": {
        "id": "LAd5BiAPnbqr",
        "colab": {
          "base_uri": "https://localhost:8080/"
        },
        "outputId": "26435968-9515-4465-f8f4-20497ab3b5ff"
      },
      "source": [
        "# descargamos los datos cifar100 y los partimos en train y test\n",
        "(X_train, y_train), (X_test, y_test) = tf.keras.datasets.cifar100.load_data()"
      ],
      "execution_count": 2,
      "outputs": [
        {
          "output_type": "stream",
          "text": [
            "Downloading data from https://www.cs.toronto.edu/~kriz/cifar-100-python.tar.gz\n",
            "169009152/169001437 [==============================] - 14s 0us/step\n"
          ],
          "name": "stdout"
        }
      ]
    },
    {
      "cell_type": "code",
      "metadata": {
        "id": "CVrsjJ0ypgKS",
        "colab": {
          "base_uri": "https://localhost:8080/"
        },
        "outputId": "01673491-536b-4bec-9f3b-c591740104c8"
      },
      "source": [
        "# Tamaño de los datos (#datos,#lado,#alto,#canales)\n",
        "print(X_train.shape)"
      ],
      "execution_count": 3,
      "outputs": [
        {
          "output_type": "stream",
          "text": [
            "(50000, 32, 32, 3)\n"
          ],
          "name": "stdout"
        }
      ]
    },
    {
      "cell_type": "code",
      "metadata": {
        "id": "idhLs1p7ngXV",
        "colab": {
          "base_uri": "https://localhost:8080/",
          "height": 283
        },
        "outputId": "598500f0-0a06-41e8-9e9b-f9778ae013ac"
      },
      "source": [
        "import matplotlib.pyplot as plt\n",
        "\n",
        "# enseñamos la primera imagen del dataset\n",
        "plt.imshow(X_train[0],cmap=\"gray\")"
      ],
      "execution_count": 4,
      "outputs": [
        {
          "output_type": "execute_result",
          "data": {
            "text/plain": [
              "<matplotlib.image.AxesImage at 0x7f9ef24e5860>"
            ]
          },
          "metadata": {
            "tags": []
          },
          "execution_count": 4
        },
        {
          "output_type": "display_data",
          "data": {
            "image/png": "[encoded data removed]",
            "text/plain": [
              "<Figure size 432x288 with 1 Axes>"
            ]
          },
          "metadata": {
            "tags": [],
            "needs_background": "light"
          }
        }
      ]
    },
    {
      "cell_type": "code",
      "metadata": {
        "id": "0sE_9bAEnsmw"
      },
      "source": [
        "# one-hot encoding en las 'y'\n",
        "from tensorflow.keras.utils import to_categorical\n",
        "\n",
        "y_train = to_categorical(y_train)\n",
        "y_test = to_categorical(y_test)\n"
      ],
      "execution_count": 5,
      "outputs": []
    },
    {
      "cell_type": "markdown",
      "metadata": {
        "id": "SF5CgUo8nt1w"
      },
      "source": [
        "Modelo"
      ]
    },
    {
      "cell_type": "code",
      "metadata": {
        "id": "uQHWqWS5nt6y"
      },
      "source": [
        "# Hacemos un modelo con varias capas\n",
        "\n",
        "from tensorflow.keras.models import Sequential\n",
        "from tensorflow.keras.layers import Dense, Conv2D, Flatten, BatchNormalization, Dropout\n",
        "from tensorflow.keras import regularizers\n",
        "\n",
        "#crear modelo\n",
        "model = Sequential()\n",
        "\n",
        "#Vamos añadiendo capas\n",
        "model.add(Conv2D(64, kernel_size=3, activation='relu', input_shape=(32,32,3),\n",
        "                activity_regularizer=regularizers.l1(0.2)))\n",
        "model.add(BatchNormalization())\n",
        "model.add(Dropout(0.3))\n",
        "model.add(Conv2D(32, kernel_size=3, activation='relu',\n",
        "                activity_regularizer=regularizers.l1(0.2)))\n",
        "model.add(BatchNormalization())\n",
        "model.add(Dropout(0.3))\n",
        "model.add(Conv2D(16, kernel_size=3, activation='relu',\n",
        "                activity_regularizer=regularizers.l1(0.2)))\n",
        "model.add(BatchNormalization())\n",
        "model.add(Dropout(0.3))\n",
        "model.add(Flatten())\n",
        "model.add(Dense(100, activation='softmax'))"
      ],
      "execution_count": 6,
      "outputs": []
    },
    {
      "cell_type": "code",
      "metadata": {
        "id": "Uqup8SlMnwU0"
      },
      "source": [
        "# Compilamos el modelo\n",
        "model.compile(optimizer='adam', loss='categorical_crossentropy', metrics=['accuracy'])"
      ],
      "execution_count": 7,
      "outputs": []
    },
    {
      "cell_type": "code",
      "metadata": {
        "id": "RU9EdH30DYv7",
        "colab": {
          "base_uri": "https://localhost:8080/"
        },
        "outputId": "09522c13-8ec8-417c-953a-e12477008a40"
      },
      "source": [
        "# Este es el modelo\n",
        "model.summary()"
      ],
      "execution_count": 8,
      "outputs": [
        {
          "output_type": "stream",
          "text": [
            "Model: \"sequential\"\n",
            "_________________________________________________________________\n",
            "Layer (type)                 Output Shape              Param #   \n",
            "=================================================================\n",
            "conv2d (Conv2D)              (None, 30, 30, 64)        1792      \n",
            "_________________________________________________________________\n",
            "batch_normalization (BatchNo (None, 30, 30, 64)        256       \n",
            "_________________________________________________________________\n",
            "dropout (Dropout)            (None, 30, 30, 64)        0         \n",
            "_________________________________________________________________\n",
            "conv2d_1 (Conv2D)            (None, 28, 28, 32)        18464     \n",
            "_________________________________________________________________\n",
            "batch_normalization_1 (Batch (None, 28, 28, 32)        128       \n",
            "_________________________________________________________________\n",
            "dropout_1 (Dropout)          (None, 28, 28, 32)        0         \n",
            "_________________________________________________________________\n",
            "conv2d_2 (Conv2D)            (None, 26, 26, 16)        4624      \n",
            "_________________________________________________________________\n",
            "batch_normalization_2 (Batch (None, 26, 26, 16)        64        \n",
            "_________________________________________________________________\n",
            "dropout_2 (Dropout)          (None, 26, 26, 16)        0         \n",
            "_________________________________________________________________\n",
            "flatten (Flatten)            (None, 10816)             0         \n",
            "_________________________________________________________________\n",
            "dense (Dense)                (None, 100)               1081700   \n",
            "=================================================================\n",
            "Total params: 1,107,028\n",
            "Trainable params: 1,106,804\n",
            "Non-trainable params: 224\n",
            "_________________________________________________________________\n"
          ],
          "name": "stdout"
        }
      ]
    },
    {
      "cell_type": "code",
      "metadata": {
        "id": "gKgh5QPeNsxR"
      },
      "source": [
        "# Vamos a usar el callback de earlystopping\n",
        "from keras.callbacks import EarlyStopping\n",
        "early_stopping = EarlyStopping(monitor='val_loss', patience=12, min_delta=0.01)"
      ],
      "execution_count": 9,
      "outputs": []
    },
    {
      "cell_type": "code",
      "metadata": {
        "id": "LjNKLB6Tn7gR",
        "colab": {
          "base_uri": "https://localhost:8080/"
        },
        "outputId": "58637c2c-137b-43d0-f918-e99f9995c48c"
      },
      "source": [
        "# Entrenamos\n",
        "hist = model.fit(X_train, y_train, validation_split=0.3, epochs=50, callbacks=[early_stopping])"
      ],
      "execution_count": 10,
      "outputs": [
        {
          "output_type": "stream",
          "text": [
            "Epoch 1/50\n",
            "1094/1094 [==============================] - 11s 10ms/step - loss: 1520.5356 - accuracy: 0.0113 - val_loss: 12.1077 - val_accuracy: 0.0083\n",
            "Epoch 2/50\n",
            "1094/1094 [==============================] - 11s 10ms/step - loss: 8.4542 - accuracy: 0.0102 - val_loss: 6.8319 - val_accuracy: 0.0091\n",
            "Epoch 3/50\n",
            "1094/1094 [==============================] - 11s 10ms/step - loss: 5.9276 - accuracy: 0.0105 - val_loss: 5.5793 - val_accuracy: 0.0091\n",
            "Epoch 4/50\n",
            "1094/1094 [==============================] - 11s 10ms/step - loss: 5.2004 - accuracy: 0.0108 - val_loss: 5.0997 - val_accuracy: 0.0089\n",
            "Epoch 5/50\n",
            "1094/1094 [==============================] - 11s 10ms/step - loss: 4.9016 - accuracy: 0.0095 - val_loss: 4.8737 - val_accuracy: 0.0114\n",
            "Epoch 6/50\n",
            "1094/1094 [==============================] - 11s 10ms/step - loss: 4.7600 - accuracy: 0.0099 - val_loss: 4.7622 - val_accuracy: 0.0097\n",
            "Epoch 7/50\n",
            "1094/1094 [==============================] - 11s 10ms/step - loss: 4.6891 - accuracy: 0.0095 - val_loss: 4.6951 - val_accuracy: 0.0108\n",
            "Epoch 8/50\n",
            "1094/1094 [==============================] - 11s 10ms/step - loss: 4.6530 - accuracy: 0.0103 - val_loss: 4.6681 - val_accuracy: 0.0093\n",
            "Epoch 9/50\n",
            "1094/1094 [==============================] - 11s 10ms/step - loss: 4.6342 - accuracy: 0.0102 - val_loss: 4.6436 - val_accuracy: 0.0093\n",
            "Epoch 10/50\n",
            "1094/1094 [==============================] - 11s 10ms/step - loss: 4.6255 - accuracy: 0.0096 - val_loss: 4.6283 - val_accuracy: 0.0106\n",
            "Epoch 11/50\n",
            "1094/1094 [==============================] - 11s 10ms/step - loss: 4.6202 - accuracy: 0.0092 - val_loss: 4.6224 - val_accuracy: 0.0102\n",
            "Epoch 12/50\n",
            "1094/1094 [==============================] - 11s 10ms/step - loss: 4.6177 - accuracy: 0.0096 - val_loss: 4.6244 - val_accuracy: 0.0095\n",
            "Epoch 13/50\n",
            "1094/1094 [==============================] - 11s 10ms/step - loss: 4.6168 - accuracy: 0.0105 - val_loss: 4.6201 - val_accuracy: 0.0094\n",
            "Epoch 14/50\n",
            "1094/1094 [==============================] - 11s 10ms/step - loss: 4.6156 - accuracy: 0.0091 - val_loss: 4.6201 - val_accuracy: 0.0095\n",
            "Epoch 15/50\n",
            "1094/1094 [==============================] - 11s 10ms/step - loss: 4.6153 - accuracy: 0.0098 - val_loss: 4.6221 - val_accuracy: 0.0099\n",
            "Epoch 16/50\n",
            "1094/1094 [==============================] - 11s 10ms/step - loss: 4.6150 - accuracy: 0.0099 - val_loss: 4.6225 - val_accuracy: 0.0094\n",
            "Epoch 17/50\n",
            "1094/1094 [==============================] - 11s 10ms/step - loss: 4.6144 - accuracy: 0.0090 - val_loss: 4.6267 - val_accuracy: 0.0093\n",
            "Epoch 18/50\n",
            "1094/1094 [==============================] - 11s 10ms/step - loss: 4.6143 - accuracy: 0.0101 - val_loss: 4.6287 - val_accuracy: 0.0093\n",
            "Epoch 19/50\n",
            "1094/1094 [==============================] - 11s 10ms/step - loss: 4.6149 - accuracy: 0.0095 - val_loss: 4.6233 - val_accuracy: 0.0093\n",
            "Epoch 20/50\n",
            "1094/1094 [==============================] - 11s 10ms/step - loss: 4.6150 - accuracy: 0.0112 - val_loss: 4.6273 - val_accuracy: 0.0095\n",
            "Epoch 21/50\n",
            "1094/1094 [==============================] - 11s 10ms/step - loss: 4.6149 - accuracy: 0.0099 - val_loss: 4.6262 - val_accuracy: 0.0095\n",
            "Epoch 22/50\n",
            "1094/1094 [==============================] - 11s 10ms/step - loss: 4.6139 - accuracy: 0.0101 - val_loss: 4.6362 - val_accuracy: 0.0102\n"
          ],
          "name": "stdout"
        }
      ]
    },
    {
      "cell_type": "code",
      "metadata": {
        "id": "194RRmusoEC7",
        "colab": {
          "base_uri": "https://localhost:8080/"
        },
        "outputId": "6e47a311-ceb8-40c2-bac9-7e95b54652ca"
      },
      "source": [
        "# Evaluamos el modelo\n",
        "score = model.evaluate(X_test,y_test)\n",
        "score"
      ],
      "execution_count": 11,
      "outputs": [
        {
          "output_type": "stream",
          "text": [
            "313/313 [==============================] - 1s 3ms/step - loss: 4.6293 - accuracy: 0.0100\n"
          ],
          "name": "stdout"
        },
        {
          "output_type": "execute_result",
          "data": {
            "text/plain": [
              "[4.629275321960449, 0.009999999776482582]"
            ]
          },
          "metadata": {
            "tags": []
          },
          "execution_count": 11
        }
      ]
    },
    {
      "cell_type": "code",
      "metadata": {
        "id": "9LiatwSPoPT7",
        "colab": {
          "base_uri": "https://localhost:8080/",
          "height": 282
        },
        "outputId": "b85a266a-803c-4b49-d965-5fa8cbdbac18"
      },
      "source": [
        "# Ploteamos la evolucion del loss durante el entrenamiento\n",
        "import matplotlib.pyplot as plt\n",
        "\n",
        "%matplotlib inline\n",
        "\n",
        "plt.figure\n",
        "plt.plot(hist.history['loss'],label=\"loss\")\n",
        "plt.plot(hist.history['val_loss'],label=\"val_loss\")\n",
        "plt.legend()\n"
      ],
      "execution_count": 12,
      "outputs": [
        {
          "output_type": "execute_result",
          "data": {
            "text/plain": [
              "<matplotlib.legend.Legend at 0x7f9e96366588>"
            ]
          },
          "metadata": {
            "tags": []
          },
          "execution_count": 12
        },
        {
          "output_type": "display_data",
          "data": {
            "image/png": "[encoded data removed]",
            "text/plain": [
              "<Figure size 432x288 with 1 Axes>"
            ]
          },
          "metadata": {
            "tags": [],
            "needs_background": "light"
          }
        }
      ]
    },
    {
      "cell_type": "code",
      "metadata": {
        "id": "u2arW_sOqI3c",
        "colab": {
          "base_uri": "https://localhost:8080/",
          "height": 283
        },
        "outputId": "0269bc45-9c06-4be9-936d-effb95803dd2"
      },
      "source": [
        "# Ploteamos la evolucion del accuracy durante el entrenamiento\n",
        "import matplotlib.pyplot as plt\n",
        "\n",
        "%matplotlib inline\n",
        "\n",
        "plt.figure\n",
        "plt.plot(hist.history['accuracy'],label=\"accuracy\")\n",
        "plt.plot(hist.history['val_accuracy'],label=\"val_accuracy\")\n",
        "plt.legend()\n"
      ],
      "execution_count": 13,
      "outputs": [
        {
          "output_type": "execute_result",
          "data": {
            "text/plain": [
              "<matplotlib.legend.Legend at 0x7f9ef76f3470>"
            ]
          },
          "metadata": {
            "tags": []
          },
          "execution_count": 13
        },
        {
          "output_type": "display_data",
          "data": {
            "image/png": "[encoded data removed]",
            "text/plain": [
              "<Figure size 432x288 with 1 Axes>"
            ]
          },
          "metadata": {
            "tags": [],
            "needs_background": "light"
          }
        }
      ]
    },
    {
      "cell_type": "code",
      "metadata": {
        "id": "7mN0MrhorXQu",
        "colab": {
          "base_uri": "https://localhost:8080/"
        },
        "outputId": "cd6fa43b-68ad-4cb1-ebd8-68a149a94ccb"
      },
      "source": [
        "# Predecimos sobre test\n",
        "preds_test = model.predict(X_test)\n",
        "preds_test.shape"
      ],
      "execution_count": 14,
      "outputs": [
        {
          "output_type": "execute_result",
          "data": {
            "text/plain": [
              "(10000, 100)"
            ]
          },
          "metadata": {
            "tags": []
          },
          "execution_count": 14
        }
      ]
    },
    {
      "cell_type": "code",
      "metadata": {
        "id": "WizGQiTup87z",
        "colab": {
          "base_uri": "https://localhost:8080/",
          "height": 283
        },
        "outputId": "173e2778-d902-485c-a9cd-ff7689a9248e"
      },
      "source": [
        "import numpy as np\n",
        "# Elegimos una imagen de test\n",
        "idx_mostrar = 2990\n",
        "# Mostramos la imagen\n",
        "plt.imshow(X_test[idx_mostrar,:,:,:])\n",
        "# Mostramos las probabilidades que da el modelo a cada clase\n",
        "print(np.argmax(preds_test[idx_mostrar]))"
      ],
      "execution_count": 15,
      "outputs": [
        {
          "output_type": "stream",
          "text": [
            "85\n"
          ],
          "name": "stdout"
        },
        {
          "output_type": "display_data",
          "data": {
            "image/png": "[encoded data removed]",
            "text/plain": [
              "<Figure size 432x288 with 1 Axes>"
            ]
          },
          "metadata": {
            "tags": [],
            "needs_background": "light"
          }
        }
      ]
    },
    {
      "cell_type": "code",
      "metadata": {
        "id": "oF7Raj64qHvq"
      },
      "source": [
        ""
      ],
      "execution_count": 15,
      "outputs": []
    }
  ]
}